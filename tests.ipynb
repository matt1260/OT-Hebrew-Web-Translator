{
 "cells": [
  {
   "cell_type": "code",
   "execution_count": 4,
   "metadata": {},
   "outputs": [],
   "source": [
    "import sqlite3\n",
    "\n",
    "def create_book_dictionary():\n",
    "    # Connect to the SQLite database\n",
    "    conn = sqlite3.connect('../db.sqlite3')\n",
    "    cursor = conn.cursor()\n",
    "\n",
    "    # Query the unique three-letter book references and their full names from the database\n",
    "    cursor.execute(\"SELECT DISTINCT book FROM englxxup\")\n",
    "    book_rows = cursor.fetchall()\n",
    "\n",
    "    # Create the dictionary with three-letter book references as keys and full names as values\n",
    "    #book_dictionary = {row[0]: row[1] for row in book_rows}\n",
    "\n",
    "    # Close the database connection\n",
    "    cursor.close()\n",
    "    conn.close()\n",
    "\n",
    "    return book_rows\n"
   ]
  },
  {
   "cell_type": "code",
   "execution_count": 5,
   "metadata": {},
   "outputs": [
    {
     "name": "stdout",
     "output_type": "stream",
     "text": [
      "[('GEN',), ('EXO',), ('LEV',), ('NUM',), ('DEU',), ('JOS',), ('JDG',), ('RUT',), ('1SA',), ('2SA',), ('1KI',), ('2KI',), ('1CH',), ('2CH',), ('EZR',), ('JOB',), ('PSA',), ('PRO',), ('ECC',), ('SNG',), ('ISA',), ('JER',), ('LAM',), ('EZK',), ('HOS',), ('JOL',), ('AMO',), ('OBA',), ('JON',), ('MIC',), ('NAM',), ('HAB',), ('ZEP',), ('HAG',), ('ZEC',), ('MAL',), ('TOB',), ('JDT',), ('ESG',), ('WIS',), ('SIR',), ('BAR',), ('LJE',), ('SUS',), ('BEL',), ('1MA',), ('2MA',), ('1ES',), ('MAN',), ('3MA',), ('4MA',), ('DAG',)]\n"
     ]
    }
   ],
   "source": [
    "# Call the function to create the dictionary\n",
    "book_dictionary = create_book_dictionary()\n",
    "\n",
    "# Print the dictionary\n",
    "print(book_dictionary)"
   ]
  },
  {
   "cell_type": "code",
   "execution_count": 6,
   "metadata": {},
   "outputs": [
    {
     "name": "stdout",
     "output_type": "stream",
     "text": [
      "{'GEN': 'Genesis', 'EXO': 'Exodus', 'LEV': 'Leviticus', 'NUM': 'Numbers', 'DEU': 'Deuteronomy', 'JOS': 'Joshua', 'JDG': 'Judges', 'RUT': 'Ruth', '1SA': '1 Samuel', '2SA': '2 Samuel', '1KI': '1 Kings', '2KI': '2 Kings', '1CH': '1 Chronicles', '2CH': '2 Chronicles', 'EZR': 'Ezra', 'JOB': 'Job', 'PSA': 'Psalms', 'PRO': 'Proverbs', 'ECC': 'Ecclesiastes', 'SNG': 'Song of Solomon', 'ISA': 'Isaiah', 'JER': 'Jeremiah', 'LAM': 'Lamentations', 'EZK': 'Ezekiel', 'HOS': 'Hosea', 'JOL': 'Joel', 'AMO': 'Amos', 'OBA': 'Obadiah', 'JON': 'Jonah', 'MIC': 'Micah', 'NAM': 'Nahum', 'HAB': 'Habakkuk', 'ZEP': 'Zephaniah', 'HAG': 'Haggai', 'ZEC': 'Zechariah', 'MAL': 'Malachi', 'TOB': 'Tobit', 'JDT': 'Judith', 'ESG': 'Esther', 'WIS': 'Wisdom', 'SIR': 'Sirach', 'BAR': 'Baruch', 'LJE': 'Letter of Jeremiah', 'SUS': 'Susanna', 'BEL': 'Bel and the Dragon', '1MA': '1 Maccabees', '2MA': '2 Maccabees', '1ES': '1 Esdras', 'MAN': 'Prayer of Manasseh', '3MA': '3 Maccabees', '4MA': '4 Maccabees', 'DAG': 'Daniel'}\n"
     ]
    }
   ],
   "source": [
    "book_reference_list = [('GEN',), ('EXO',), ('LEV',), ('NUM',), ('DEU',), ('JOS',), ('JDG',), ('RUT',), ('1SA',), ('2SA',), ('1KI',), ('2KI',), ('1CH',), ('2CH',), ('EZR',), ('JOB',), ('PSA',), ('PRO',), ('ECC',), ('SNG',), ('ISA',), ('JER',), ('LAM',), ('EZK',), ('HOS',), ('JOL',), ('AMO',), ('OBA',), ('JON',), ('MIC',), ('NAM',), ('HAB',), ('ZEP',), ('HAG',), ('ZEC',), ('MAL',), ('TOB',), ('JDT',), ('ESG',), ('WIS',), ('SIR',), ('BAR',), ('LJE',), ('SUS',), ('BEL',), ('1MA',), ('2MA',), ('1ES',), ('MAN',), ('3MA',), ('4MA',), ('DAG',)]\n",
    "\n",
    "# Full book names corresponding to the three-letter references\n",
    "full_book_names = [\n",
    "    'Genesis', 'Exodus', 'Leviticus', 'Numbers', 'Deuteronomy', 'Joshua', 'Judges', 'Ruth', '1 Samuel', '2 Samuel',\n",
    "    '1 Kings', '2 Kings', '1 Chronicles', '2 Chronicles', 'Ezra', 'Job', 'Psalms', 'Proverbs', 'Ecclesiastes',\n",
    "    'Song of Solomon', 'Isaiah', 'Jeremiah', 'Lamentations', 'Ezekiel', 'Hosea', 'Joel', 'Amos', 'Obadiah', 'Jonah',\n",
    "    'Micah', 'Nahum', 'Habakkuk', 'Zephaniah', 'Haggai', 'Zechariah', 'Malachi', 'Tobit', 'Judith', 'Esther', 'Wisdom',\n",
    "    'Sirach', 'Baruch', 'Letter of Jeremiah', 'Susanna', 'Bel and the Dragon', '1 Maccabees', '2 Maccabees',\n",
    "    '1 Esdras', 'Prayer of Manasseh', '3 Maccabees', '4 Maccabees', 'Daniel'\n",
    "]\n",
    "\n",
    "# Create the dictionary with three-letter book references as keys and full names as values\n",
    "book_dictionary = {ref[0]: full_book_names[i] for i, ref in enumerate(book_reference_list)}\n",
    "\n",
    "# Print the dictionary\n",
    "print(book_dictionary)"
   ]
  },
  {
   "cell_type": "code",
   "execution_count": 8,
   "metadata": {},
   "outputs": [
    {
     "name": "stdout",
     "output_type": "stream",
     "text": [
      "{'Genesis': 'GEN', 'Exodus': 'EXO', 'Leviticus': 'LEV', 'Numbers': 'NUM', 'Deuteronomy': 'DEU', 'Joshua': 'JOS', 'Judges': 'JDG', 'Ruth': 'RUT', '1 Samuel': '1SA', '2 Samuel': '2SA', '1 Kings': '1KI', '2 Kings': '2KI', '1 Chronicles': '1CH', '2 Chronicles': '2CH', 'Ezra': 'EZR', 'Job': 'JOB', 'Psalms': 'PSA', 'Proverbs': 'PRO', 'Ecclesiastes': 'ECC', 'Song of Solomon': 'SNG', 'Isaiah': 'ISA', 'Jeremiah': 'JER', 'Lamentations': 'LAM', 'Ezekiel': 'EZK', 'Hosea': 'HOS', 'Joel': 'JOL', 'Amos': 'AMO', 'Obadiah': 'OBA', 'Jonah': 'JON', 'Micah': 'MIC', 'Nahum': 'NAM', 'Habakkuk': 'HAB', 'Zephaniah': 'ZEP', 'Haggai': 'HAG', 'Zechariah': 'ZEC', 'Malachi': 'MAL', 'Tobit': 'TOB', 'Judith': 'JDT', 'Esther': 'ESG', 'Wisdom': 'WIS', 'Sirach': 'SIR', 'Baruch': 'BAR', 'Letter of Jeremiah': 'LJE', 'Susanna': 'SUS', 'Bel and the Dragon': 'BEL', '1 Maccabees': '1MA', '2 Maccabees': '2MA', '1 Esdras': '1ES', 'Prayer of Manasseh': 'MAN', '3 Maccabees': '3MA', '4 Maccabees': '4MA', 'Daniel': 'DAG'}\n"
     ]
    }
   ],
   "source": [
    "book_dictionary\n",
    "\n",
    "# Flipping the dictionary by swapping keys and values\n",
    "flipped_englxx_dict = {value: key for key, value in book_dictionary.items()}\n",
    "\n",
    "# Print the flipped dictionary\n",
    "print(flipped_englxx_dict)"
   ]
  },
  {
   "cell_type": "code",
   "execution_count": 9,
   "metadata": {},
   "outputs": [],
   "source": [
    "def convert_book_reference(book_reference):\n",
    "    return englxx_dict.get(book_reference, 'Unknown')"
   ]
  },
  {
   "cell_type": "code",
   "execution_count": 10,
   "metadata": {},
   "outputs": [
    {
     "name": "stdout",
     "output_type": "stream",
     "text": [
      "GEN\n"
     ]
    }
   ],
   "source": [
    "# Example usage\n",
    "ref = 'Genesis'\n",
    "full_book_name = convert_book_reference(ref)\n",
    "print(full_book_name)  # Output: 'Gen'"
   ]
  },
  {
   "cell_type": "code",
   "execution_count": 10,
   "metadata": {},
   "outputs": [
    {
     "name": "stdout",
     "output_type": "stream",
     "text": [
      "[NormalizedReference(book=<Book.MALACHI: 39>,\n",
      "                     start_chapter=1,\n",
      "                     start_verse=1,\n",
      "                     end_chapter=4,\n",
      "                     end_verse=6,\n",
      "                     end_book=None)]\n",
      "MALACHI\n"
     ]
    }
   ],
   "source": [
    "import pythonbible as bible\n",
    "import pprint\n",
    "text = \"Mal\"\n",
    "references = bible.get_references(text)\n",
    "\n",
    "\n",
    "pp = pprint.PrettyPrinter(width=30, compact=True)\n",
    "pp.pprint(references)\n",
    "\n",
    "ref = references[0]\n",
    "book = ref.book.name\n",
    "chapter = ref.start_chapter\n",
    "verse = ref.start_verse\n",
    "\n",
    "print(book)\n"
   ]
  },
  {
   "cell_type": "code",
   "execution_count": 3,
   "metadata": {},
   "outputs": [
    {
     "name": "stdout",
     "output_type": "stream",
     "text": [
      "['he is becoming', '(he) has become', '(she) has become', 'to become', 'to become', 'to become he is becoming', 'head', 'head', 'the first one/the first one', 'the last one/the last one', 'good', 'good', 'treacherous-garment', 'standing-place', 'valley', 'brook', 'road', 'joined-one', 'united-one', 'being seen', 'causing to turn back', 'middle', 'untranslated', 'myself', 'yourself', 'this one', 'this one', 'sorrow', 'friend', 'living one (masculine)', 'dual-life', 'living ones', 'living one (feminine)', 'living-one (feminine)', 'the whole', 'behemah', 'breath', 'the Red-one', 'red-one', 'red-one', 'strong-man', 'mortal-man', 'warrior', 'chosen-one', 'earth', 'owner', 'to own, rule over', 'nostril', 'breathe hard', 'in-him', 'אֶת-', 'את-', 'head', 'wind', 'meat', 'a silver-one', 'staff', 'rod', 'voice', 'herself', 'himself', 'himself']\n",
      "And elohim is calling-out to the Light `Hot-one,` and to the Dark-one he has called-out `Night-<font color=\"#ff33cc\"><i>ward</i></font>.`<a class=\"sdfootnoteanc\" href=\"?footnote=1-5-16\"><sup>16</sup></a> And <span class=\"hayah\">he is becoming</span> dusk, and <span class=\"hayah\">he is becoming</span> dawn, hot-one <font color=\"#0000ff\">one</font>.  \n"
     ]
    }
   ],
   "source": [
    "import sqlite3\n",
    "\n",
    "def highlight_rbt_lex(rbt):\n",
    "\n",
    "    # Highlight RBT Lexicon words\n",
    "    conn = sqlite3.connect('db.sqlite3')\n",
    "    cursor = conn.cursor()\n",
    "    \n",
    "    cursor.execute(\"SELECT translation FROM rbt_strongs\")\n",
    "    translations = cursor.fetchall()\n",
    "    word_list = [item[0] for item in translations]\n",
    "    print(word_list)\n",
    "\n",
    "    conn.close()\n",
    "\n",
    "    rbt = rbt.replace('<p>', '').replace('</p>', '') # strip the <p> tags\n",
    "    substring = '<span class=\"hayah\"><font color=\"#ff33cc\">has become</font></span>'\n",
    "    #replacement = f'<div class=\"popup-container\">{substring}<div class=\"popup-content\">{comments}</div></div>'\n",
    "    #rbt = rbt.replace(substring, replacement)\n",
    "\n",
    "    return rbt\n",
    "\n",
    "rbt = '<p>And elohim is calling-out to the Light `Hot-one,` and to the Dark-one he has called-out `Night-<font color=\"#ff33cc\"><i>ward</i></font>.`<a class=\"sdfootnoteanc\" href=\"?footnote=1-5-16\"><sup>16</sup></a> And <span class=\"hayah\">he is becoming</span> dusk, and <span class=\"hayah\">he is becoming</span> dawn, hot-one <font color=\"#0000ff\">one</font>.  </p>'\n",
    "\n",
    "rbt = highlight_rbt_lex(rbt)\n",
    "\n",
    "print(rbt)\n",
    "\n"
   ]
  },
  {
   "cell_type": "code",
   "execution_count": 33,
   "metadata": {},
   "outputs": [
    {
     "name": "stdout",
     "output_type": "stream",
     "text": [
      "וְ<span style=\"color: gold;\">אַת</span>ֶּם\n"
     ]
    }
   ],
   "source": [
    "# Sample text containing Hebrew characters\n",
    "hebrew_text = \"וְאַתֶּם\"\n",
    "\n",
    "# List of words to highlight letters\n",
    "at_list = [\n",
    "    'אָתֶ', 'אֹתִ', 'אתֹ', 'אֹתֵ', 'אֶתֶּ', 'אֵתֻ', 'אַתֵ', 'אתִ', 'אֵתֵ', 'אָתֻ', 'אֵתֶּ', 'אַתִ', 'אֻתֵ', 'אַתּ',\n",
    "    'את', 'אַת', 'אָתֶּ', 'אתֶ', 'אֵת', 'אֻתַ', 'אתֵ', 'אֹתֻ', 'אִתּ', 'אֵתָ', 'אתֻ', 'אתֶּ', 'אֻתֶּ', 'אֶת', 'אּתֹ',\n",
    "    'אתּ', 'אּתֻ', 'אֶתֻ', 'אֹת', 'אֹתֶ', 'אֶתָ', 'אּת', 'אָתִ', 'אִתֹ', 'אֹתָ', 'אֻתּ', 'אַתֶּ', 'אָת', 'אֶתּ',\n",
    "    'אַתֻ', 'את', 'אֹתּ', 'אָתָ', 'אַתָ', 'אַתַ', 'אָתּ', 'אֶתֵ', 'אּתֶּ', 'אּתֵ', 'אִתֶּ', 'אּתִ', 'אֻתָ', 'אֵתִ',\n",
    "    'אִתֵ', 'אּתָ', 'אֻתֻ', 'אֻת', 'אֻתִ', 'אּתּ', 'אֶתֹ', 'אָתֹ', 'אֵתֶ', 'אֶתִ', 'אִתִ', 'אַתֶ', 'אִתֶ', 'אֵתֹ',\n",
    "    'אּתַ', 'אֵתּ', 'אָתַ', 'אֶתַ', 'אֶתֶ', 'אָתֵ', 'אִתַ', 'אֹתֶּ', 'אֻתֶ', 'אִתֻ', 'אֻתֹ', 'אַתֹ', 'אֵתַ', 'אתָ',\n",
    "    'אתַ', 'אֹתֹ', 'אֹתַ', 'אִת', 'אּתֶ', 'אִתָ'\n",
    "]\n",
    "\n",
    "# Iterate through the words in the at_list\n",
    "for word in at_list:\n",
    "    # Check if the word exists in the Hebrew text\n",
    "    if word in hebrew_text:\n",
    "        # Replace the word with the same word wrapped in HTML tags for highlighting\n",
    "        hebrew_text = hebrew_text.replace(word, f'<span style=\"color: gold;\">{word}</span>')\n",
    "\n",
    "print(hebrew_text)\n"
   ]
  }
 ],
 "metadata": {
  "kernelspec": {
   "display_name": ".venv",
   "language": "python",
   "name": "python3"
  },
  "language_info": {
   "codemirror_mode": {
    "name": "ipython",
    "version": 3
   },
   "file_extension": ".py",
   "mimetype": "text/x-python",
   "name": "python",
   "nbconvert_exporter": "python",
   "pygments_lexer": "ipython3",
   "version": "3.11.2"
  },
  "orig_nbformat": 4
 },
 "nbformat": 4,
 "nbformat_minor": 2
}
