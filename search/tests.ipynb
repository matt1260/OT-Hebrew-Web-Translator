{
 "cells": [
  {
   "cell_type": "code",
   "execution_count": 4,
   "metadata": {},
   "outputs": [],
   "source": [
    "import sqlite3\n",
    "\n",
    "def create_book_dictionary():\n",
    "    # Connect to the SQLite database\n",
    "    conn = sqlite3.connect('../db.sqlite3')\n",
    "    cursor = conn.cursor()\n",
    "\n",
    "    # Query the unique three-letter book references and their full names from the database\n",
    "    cursor.execute(\"SELECT DISTINCT book FROM englxxup\")\n",
    "    book_rows = cursor.fetchall()\n",
    "\n",
    "    # Create the dictionary with three-letter book references as keys and full names as values\n",
    "    #book_dictionary = {row[0]: row[1] for row in book_rows}\n",
    "\n",
    "    # Close the database connection\n",
    "    cursor.close()\n",
    "    conn.close()\n",
    "\n",
    "    return book_rows\n"
   ]
  },
  {
   "cell_type": "code",
   "execution_count": 5,
   "metadata": {},
   "outputs": [
    {
     "name": "stdout",
     "output_type": "stream",
     "text": [
      "[('GEN',), ('EXO',), ('LEV',), ('NUM',), ('DEU',), ('JOS',), ('JDG',), ('RUT',), ('1SA',), ('2SA',), ('1KI',), ('2KI',), ('1CH',), ('2CH',), ('EZR',), ('JOB',), ('PSA',), ('PRO',), ('ECC',), ('SNG',), ('ISA',), ('JER',), ('LAM',), ('EZK',), ('HOS',), ('JOL',), ('AMO',), ('OBA',), ('JON',), ('MIC',), ('NAM',), ('HAB',), ('ZEP',), ('HAG',), ('ZEC',), ('MAL',), ('TOB',), ('JDT',), ('ESG',), ('WIS',), ('SIR',), ('BAR',), ('LJE',), ('SUS',), ('BEL',), ('1MA',), ('2MA',), ('1ES',), ('MAN',), ('3MA',), ('4MA',), ('DAG',)]\n"
     ]
    }
   ],
   "source": [
    "# Call the function to create the dictionary\n",
    "book_dictionary = create_book_dictionary()\n",
    "\n",
    "# Print the dictionary\n",
    "print(book_dictionary)"
   ]
  },
  {
   "cell_type": "code",
   "execution_count": 6,
   "metadata": {},
   "outputs": [
    {
     "name": "stdout",
     "output_type": "stream",
     "text": [
      "{'GEN': 'Genesis', 'EXO': 'Exodus', 'LEV': 'Leviticus', 'NUM': 'Numbers', 'DEU': 'Deuteronomy', 'JOS': 'Joshua', 'JDG': 'Judges', 'RUT': 'Ruth', '1SA': '1 Samuel', '2SA': '2 Samuel', '1KI': '1 Kings', '2KI': '2 Kings', '1CH': '1 Chronicles', '2CH': '2 Chronicles', 'EZR': 'Ezra', 'JOB': 'Job', 'PSA': 'Psalms', 'PRO': 'Proverbs', 'ECC': 'Ecclesiastes', 'SNG': 'Song of Solomon', 'ISA': 'Isaiah', 'JER': 'Jeremiah', 'LAM': 'Lamentations', 'EZK': 'Ezekiel', 'HOS': 'Hosea', 'JOL': 'Joel', 'AMO': 'Amos', 'OBA': 'Obadiah', 'JON': 'Jonah', 'MIC': 'Micah', 'NAM': 'Nahum', 'HAB': 'Habakkuk', 'ZEP': 'Zephaniah', 'HAG': 'Haggai', 'ZEC': 'Zechariah', 'MAL': 'Malachi', 'TOB': 'Tobit', 'JDT': 'Judith', 'ESG': 'Esther', 'WIS': 'Wisdom', 'SIR': 'Sirach', 'BAR': 'Baruch', 'LJE': 'Letter of Jeremiah', 'SUS': 'Susanna', 'BEL': 'Bel and the Dragon', '1MA': '1 Maccabees', '2MA': '2 Maccabees', '1ES': '1 Esdras', 'MAN': 'Prayer of Manasseh', '3MA': '3 Maccabees', '4MA': '4 Maccabees', 'DAG': 'Daniel'}\n"
     ]
    }
   ],
   "source": [
    "book_reference_list = [('GEN',), ('EXO',), ('LEV',), ('NUM',), ('DEU',), ('JOS',), ('JDG',), ('RUT',), ('1SA',), ('2SA',), ('1KI',), ('2KI',), ('1CH',), ('2CH',), ('EZR',), ('JOB',), ('PSA',), ('PRO',), ('ECC',), ('SNG',), ('ISA',), ('JER',), ('LAM',), ('EZK',), ('HOS',), ('JOL',), ('AMO',), ('OBA',), ('JON',), ('MIC',), ('NAM',), ('HAB',), ('ZEP',), ('HAG',), ('ZEC',), ('MAL',), ('TOB',), ('JDT',), ('ESG',), ('WIS',), ('SIR',), ('BAR',), ('LJE',), ('SUS',), ('BEL',), ('1MA',), ('2MA',), ('1ES',), ('MAN',), ('3MA',), ('4MA',), ('DAG',)]\n",
    "\n",
    "# Full book names corresponding to the three-letter references\n",
    "full_book_names = [\n",
    "    'Genesis', 'Exodus', 'Leviticus', 'Numbers', 'Deuteronomy', 'Joshua', 'Judges', 'Ruth', '1 Samuel', '2 Samuel',\n",
    "    '1 Kings', '2 Kings', '1 Chronicles', '2 Chronicles', 'Ezra', 'Job', 'Psalms', 'Proverbs', 'Ecclesiastes',\n",
    "    'Song of Solomon', 'Isaiah', 'Jeremiah', 'Lamentations', 'Ezekiel', 'Hosea', 'Joel', 'Amos', 'Obadiah', 'Jonah',\n",
    "    'Micah', 'Nahum', 'Habakkuk', 'Zephaniah', 'Haggai', 'Zechariah', 'Malachi', 'Tobit', 'Judith', 'Esther', 'Wisdom',\n",
    "    'Sirach', 'Baruch', 'Letter of Jeremiah', 'Susanna', 'Bel and the Dragon', '1 Maccabees', '2 Maccabees',\n",
    "    '1 Esdras', 'Prayer of Manasseh', '3 Maccabees', '4 Maccabees', 'Daniel'\n",
    "]\n",
    "\n",
    "# Create the dictionary with three-letter book references as keys and full names as values\n",
    "book_dictionary = {ref[0]: full_book_names[i] for i, ref in enumerate(book_reference_list)}\n",
    "\n",
    "# Print the dictionary\n",
    "print(book_dictionary)"
   ]
  },
  {
   "cell_type": "code",
   "execution_count": 8,
   "metadata": {},
   "outputs": [
    {
     "name": "stdout",
     "output_type": "stream",
     "text": [
      "{'Genesis': 'GEN', 'Exodus': 'EXO', 'Leviticus': 'LEV', 'Numbers': 'NUM', 'Deuteronomy': 'DEU', 'Joshua': 'JOS', 'Judges': 'JDG', 'Ruth': 'RUT', '1 Samuel': '1SA', '2 Samuel': '2SA', '1 Kings': '1KI', '2 Kings': '2KI', '1 Chronicles': '1CH', '2 Chronicles': '2CH', 'Ezra': 'EZR', 'Job': 'JOB', 'Psalms': 'PSA', 'Proverbs': 'PRO', 'Ecclesiastes': 'ECC', 'Song of Solomon': 'SNG', 'Isaiah': 'ISA', 'Jeremiah': 'JER', 'Lamentations': 'LAM', 'Ezekiel': 'EZK', 'Hosea': 'HOS', 'Joel': 'JOL', 'Amos': 'AMO', 'Obadiah': 'OBA', 'Jonah': 'JON', 'Micah': 'MIC', 'Nahum': 'NAM', 'Habakkuk': 'HAB', 'Zephaniah': 'ZEP', 'Haggai': 'HAG', 'Zechariah': 'ZEC', 'Malachi': 'MAL', 'Tobit': 'TOB', 'Judith': 'JDT', 'Esther': 'ESG', 'Wisdom': 'WIS', 'Sirach': 'SIR', 'Baruch': 'BAR', 'Letter of Jeremiah': 'LJE', 'Susanna': 'SUS', 'Bel and the Dragon': 'BEL', '1 Maccabees': '1MA', '2 Maccabees': '2MA', '1 Esdras': '1ES', 'Prayer of Manasseh': 'MAN', '3 Maccabees': '3MA', '4 Maccabees': '4MA', 'Daniel': 'DAG'}\n"
     ]
    }
   ],
   "source": [
    "book_dictionary\n",
    "\n",
    "# Flipping the dictionary by swapping keys and values\n",
    "flipped_englxx_dict = {value: key for key, value in book_dictionary.items()}\n",
    "\n",
    "# Print the flipped dictionary\n",
    "print(flipped_englxx_dict)"
   ]
  },
  {
   "cell_type": "code",
   "execution_count": 9,
   "metadata": {},
   "outputs": [],
   "source": [
    "def convert_book_reference(book_reference):\n",
    "    return englxx_dict.get(book_reference, 'Unknown')"
   ]
  },
  {
   "cell_type": "code",
   "execution_count": 10,
   "metadata": {},
   "outputs": [
    {
     "name": "stdout",
     "output_type": "stream",
     "text": [
      "GEN\n"
     ]
    }
   ],
   "source": [
    "# Example usage\n",
    "ref = 'Genesis'\n",
    "full_book_name = convert_book_reference(ref)\n",
    "print(full_book_name)  # Output: 'Gen'"
   ]
  }
 ],
 "metadata": {
  "kernelspec": {
   "display_name": ".venv",
   "language": "python",
   "name": "python3"
  },
  "language_info": {
   "codemirror_mode": {
    "name": "ipython",
    "version": 3
   },
   "file_extension": ".py",
   "mimetype": "text/x-python",
   "name": "python",
   "nbconvert_exporter": "python",
   "pygments_lexer": "ipython3",
   "version": "3.11.2"
  },
  "orig_nbformat": 4
 },
 "nbformat": 4,
 "nbformat_minor": 2
}
